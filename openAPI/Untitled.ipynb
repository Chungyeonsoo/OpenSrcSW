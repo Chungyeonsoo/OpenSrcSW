{
 "cells": [
  {
   "cell_type": "code",
   "execution_count": 149,
   "metadata": {},
   "outputs": [
    {
     "name": "stdout",
     "output_type": "stream",
     "text": [
      "/Users/chungyeons/Downloads/file1.txt\n",
      "\n"
     ]
    }
   ],
   "source": [
    "from tkinter import *\n",
    "from tkinter import filedialog\n",
    " \n",
    "root = Tk()\n",
    "\n",
    "# 버튼 클릭 이벤트 핸들러\n",
    "\n",
    "    \n",
    "def Load():\n",
    "    filename = filedialog.askopenfilename(initialdir=\"/\", title=\"Select file\",\n",
    "                                          filetypes=((\"PPTX files\", \"*.pptx\"),\n",
    "                                          (\"all files\", \"*.*\")))\n",
    "    print(filename)\n",
    "    \n",
    "def Save():\n",
    "    filename = filedialog.asksaveasfilename(initialdir=\"/\", title=\"Select file\",\n",
    "                                          filetypes=((\"PPTX files\", \"*.pptx\"), \n",
    "                                          (\"all files\", \"*.*\")))\n",
    "    print(filename)\n",
    " \n",
    "lbl = Label(root, text=\"파일\")\n",
    "lbl.grid(row=0, column=0)\n",
    "txt = Entry(root)\n",
    "txt.grid(row=0, column=1)\n",
    " \n",
    "# 버튼 클릭 이벤트와 핸들러 정의\n",
    "btn = Button(root, text=\"file\", command=Load())\n",
    "btn1 = Button(root, text=\"file\", command=Save())\n",
    " \n",
    "btn.grid(row=1, column=1)\n",
    " \n",
    "root.mainloop()\n"
   ]
  },
  {
   "cell_type": "code",
   "execution_count": null,
   "metadata": {},
   "outputs": [],
   "source": []
  },
  {
   "cell_type": "code",
   "execution_count": null,
   "metadata": {},
   "outputs": [],
   "source": []
  }
 ],
 "metadata": {
  "kernelspec": {
   "display_name": "Python 3",
   "language": "python",
   "name": "python3"
  },
  "language_info": {
   "codemirror_mode": {
    "name": "ipython",
    "version": 3
   },
   "file_extension": ".py",
   "mimetype": "text/x-python",
   "name": "python",
   "nbconvert_exporter": "python",
   "pygments_lexer": "ipython3",
   "version": "3.8.5"
  }
 },
 "nbformat": 4,
 "nbformat_minor": 4
}
