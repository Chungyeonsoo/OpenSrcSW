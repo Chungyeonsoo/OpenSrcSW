{
 "cells": [
  {
   "cell_type": "code",
   "execution_count": 1,
   "metadata": {},
   "outputs": [
    {
     "name": "stdout",
     "output_type": "stream",
     "text": [
      "file1.txt test.txt\n"
     ]
    }
   ],
   "source": [
    "# 실습 6\n",
    "args = input().split()\n",
    "\n",
    "f = open(args[0], 'r', encoding = 'utf-8')\n",
    "lines = f.read()\n",
    "copied = open(args[1], 'w', encoding = 'utf-8')\n",
    "copied.write(lines)\n",
    "\n",
    "f.close()\n",
    "copied.close()"
   ]
  },
  {
   "cell_type": "code",
   "execution_count": 2,
   "metadata": {},
   "outputs": [
    {
     "name": "stdout",
     "output_type": "stream",
     "text": [
      "file1.txt\n",
      "16\n",
      "8\n"
     ]
    }
   ],
   "source": [
    "# 실습 7\n",
    "args = input().split()\n",
    "f = open(args[0], 'r', encoding = 'utf-8')\n",
    "file  = f.read()\n",
    "lines = file.split('\\n')\n",
    "\n",
    "\n",
    "w = 0\n",
    "for line in lines:\n",
    "    w += len(line.split())\n",
    "\n",
    "l = len(lines) -1\n",
    "\n",
    "print(w)\n",
    "print(l)   \n"
   ]
  },
  {
   "cell_type": "code",
   "execution_count": 13,
   "metadata": {},
   "outputs": [
    {
     "name": "stdout",
     "output_type": "stream",
     "text": [
      "1 + 2 = 3 입니다.\n",
      "5 - 1 = 4 입니다.\n",
      "2 * 3 = 6 입니다.\n",
      "6 / 2 = 3 입니다.\n"
     ]
    }
   ],
   "source": [
    "# 실습 8\n",
    "class Calc:\n",
    "    def sum(self,a,b):\n",
    "        result = a + b\n",
    "        print(\"{0} + {1} = {2} 입니다.\".format(a,b,result))\n",
    "    def sub(self,a,b):\n",
    "        result = a - b\n",
    "        print(\"{0} - {1} = {2} 입니다.\".format(a,b,result))\n",
    "    def multi(self,a,b):\n",
    "        result = a * b\n",
    "        print(\"{0} * {1} = {2} 입니다.\".format(a,b,result))\n",
    "    def divi(self,a,b):\n",
    "        result = a / b\n",
    "        print(\"{0} / {1} = {2} 입니다.\".format(a,b,int(result)))\n",
    "\n",
    "calc = Calc()\n",
    "calc.sum(1,2)\n",
    "calc.sub(5,1)\n",
    "calc.multi(2,3)\n",
    "calc.divi(6,2)"
   ]
  },
  {
   "cell_type": "code",
   "execution_count": 15,
   "metadata": {},
   "outputs": [
    {
     "name": "stdout",
     "output_type": "stream",
     "text": [
      "1 + 2 - 3 * 4 + 5\n",
      "1+2-3*4+5"
     ]
    },
    {
     "ename": "NameError",
     "evalue": "name 'pop' is not defined",
     "output_type": "error",
     "traceback": [
      "\u001b[0;31m---------------------------------------------------------------------------\u001b[0m",
      "\u001b[0;31mNameError\u001b[0m                                 Traceback (most recent call last)",
      "\u001b[0;32m<ipython-input-15-1e841e1501b6>\u001b[0m in \u001b[0;36m<module>\u001b[0;34m\u001b[0m\n\u001b[1;32m     83\u001b[0m \u001b[0;32mfor\u001b[0m \u001b[0mv\u001b[0m \u001b[0;32min\u001b[0m \u001b[0mx\u001b[0m\u001b[0;34m:\u001b[0m\u001b[0;34m\u001b[0m\u001b[0;34m\u001b[0m\u001b[0m\n\u001b[1;32m     84\u001b[0m     \u001b[0mprint\u001b[0m\u001b[0;34m(\u001b[0m\u001b[0mv\u001b[0m\u001b[0;34m,\u001b[0m\u001b[0mend\u001b[0m\u001b[0;34m=\u001b[0m\u001b[0;34m''\u001b[0m\u001b[0;34m)\u001b[0m\u001b[0;34m\u001b[0m\u001b[0;34m\u001b[0m\u001b[0m\n\u001b[0;32m---> 85\u001b[0;31m \u001b[0mprint\u001b[0m\u001b[0;34m(\u001b[0m\u001b[0;34m'={0}'\u001b[0m\u001b[0;34m.\u001b[0m\u001b[0mformat\u001b[0m\u001b[0;34m(\u001b[0m\u001b[0mpop\u001b[0m\u001b[0;34m(\u001b[0m\u001b[0mnumstack\u001b[0m\u001b[0;34m)\u001b[0m\u001b[0;34m)\u001b[0m\u001b[0;34m)\u001b[0m\u001b[0;34m\u001b[0m\u001b[0;34m\u001b[0m\u001b[0m\n\u001b[0m",
      "\u001b[0;31mNameError\u001b[0m: name 'pop' is not defined"
     ]
    }
   ],
   "source": [
    "# 실습 9\n",
    "\n",
    "class Stack:\n",
    "\n",
    "    def push(self, stack, value):\n",
    "        stack.append(value)\n",
    "    \n",
    "    def pop(self, stack):\n",
    "        a = stack[len(stack)-1]\n",
    "        stack.remove(a)\n",
    "        return a\n",
    "       \n",
    "    def peek(self, stack):\n",
    "        return stack[len(stack)-2]\n",
    "    \n",
    "numstack = []\n",
    "opstack = []\n",
    "    \n",
    "x = input().split()\n",
    "\n",
    "stack = Stack()\n",
    "\n",
    "for v in x:\n",
    "    \n",
    "    if v.isdigit(): # 3 3 4\n",
    "        stack.push(numstack, v)\n",
    "        \n",
    "        if len(opstack) >= 1:\n",
    "            op = stack.pop(opstack)\n",
    "            \n",
    "            if op == '*' or op == '/':\n",
    "                num2 = int(stack.pop(numstack))\n",
    "                num1 = int(stack.pop(numstack))\n",
    "                if op == '*':\n",
    "                    answ = num1 * num2\n",
    "                elif op == '/':\n",
    "                    answ = num1 / num2\n",
    "                stack.push(numstack, answ)\n",
    "                \n",
    "            else:\n",
    "                stack.push(opstack, op)\n",
    "                \n",
    "        if v == x[len(x)-1]:\n",
    "            \n",
    "            op = stack.pop(opstack)\n",
    "            n2 = int(stack.pop(numstack))\n",
    "            n1 = int(stack.pop(numstack))\n",
    "            \n",
    "            if op == '+':\n",
    "                answ = n1 + n2\n",
    "            elif op == '-':\n",
    "                answ = n1 - n2\n",
    "            elif op == '*':\n",
    "                answ = n1 * n2\n",
    "            elif op == '/':\n",
    "                answ = n1 / n2\n",
    "            stack.push(numstack, answ)\n",
    "            \n",
    "    else: # - *\n",
    "        stack.push(opstack, v)\n",
    "        \n",
    "        if len(opstack) >= 2:\n",
    "            \n",
    "            if v != '*' and v != '/':  \n",
    "                \n",
    "                n2 = int(stack.pop(numstack))\n",
    "                n1 = int(stack.pop(numstack))\n",
    "                tmpop = stack.pop(opstack)\n",
    "                op = stack.pop(opstack)\n",
    "\n",
    "                stack.push(opstack, tmpop)    \n",
    "                \n",
    "                if op == '+':\n",
    "                    answ = n1 + n2\n",
    "                elif op == '-':\n",
    "                    answ = n1 - n2\n",
    "                elif op == '*':\n",
    "                    answ = n1 * n2\n",
    "                elif op == '/':\n",
    "                    answ = n1 / n2\n",
    "                \n",
    "                stack.push(numstack, answ)\n",
    "for v in x:\n",
    "    print(v,end='')\n",
    "print('={0}'.format(pop(numstack)))"
   ]
  },
  {
   "cell_type": "code",
   "execution_count": null,
   "metadata": {},
   "outputs": [],
   "source": []
  }
 ],
 "metadata": {
  "kernelspec": {
   "display_name": "Python 3",
   "language": "python",
   "name": "python3"
  },
  "language_info": {
   "codemirror_mode": {
    "name": "ipython",
    "version": 3
   },
   "file_extension": ".py",
   "mimetype": "text/x-python",
   "name": "python",
   "nbconvert_exporter": "python",
   "pygments_lexer": "ipython3",
   "version": "3.8.5"
  }
 },
 "nbformat": 4,
 "nbformat_minor": 4
}
