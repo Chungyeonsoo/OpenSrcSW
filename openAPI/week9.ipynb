{
 "cells": [
  {
   "cell_type": "code",
   "execution_count": 1,
   "metadata": {},
   "outputs": [
    {
     "name": "stdout",
     "output_type": "stream",
     "text": [
      "2\n",
      "2차 방적식 : 25.0\n",
      "3\n",
      "둘레 : 18.84 넓이 : 28.26\n"
     ]
    }
   ],
   "source": [
    "x = input()\n",
    "x = float(x)\n",
    "print('2차 방적식 :', 3 * (x ** 2) + 5 * x + 3)\n",
    "\n",
    "r = input()\n",
    "r = float(r)\n",
    "pi = 3.14\n",
    "print('둘레 :', 2 * pi * r , '넓이 :', pi * r ** 2)\n",
    "\n"
   ]
  },
  {
   "cell_type": "code",
   "execution_count": null,
   "metadata": {},
   "outputs": [],
   "source": []
  }
 ],
 "metadata": {
  "kernelspec": {
   "display_name": "Python 3",
   "language": "python",
   "name": "python3"
  },
  "language_info": {
   "codemirror_mode": {
    "name": "ipython",
    "version": 3
   },
   "file_extension": ".py",
   "mimetype": "text/x-python",
   "name": "python",
   "nbconvert_exporter": "python",
   "pygments_lexer": "ipython3",
   "version": "3.8.5"
  }
 },
 "nbformat": 4,
 "nbformat_minor": 5
}
