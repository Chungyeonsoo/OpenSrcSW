{
 "cells": [
  {
   "cell_type": "code",
   "execution_count": 11,
   "metadata": {},
   "outputs": [
    {
     "name": "stdout",
     "output_type": "stream",
     "text": [
      "1 2\n",
      "1 2\n"
     ]
    },
    {
     "ename": "AttributeError",
     "evalue": "'NoneType' object has no attribute 'show'",
     "output_type": "error",
     "traceback": [
      "\u001b[0;31m---------------------------------------------------------------------------\u001b[0m",
      "\u001b[0;31mAttributeError\u001b[0m                            Traceback (most recent call last)",
      "\u001b[0;32m<ipython-input-11-023c4bbbe931>\u001b[0m in \u001b[0;36m<module>\u001b[0;34m\u001b[0m\n\u001b[1;32m     19\u001b[0m \u001b[0;34m\u001b[0m\u001b[0m\n\u001b[1;32m     20\u001b[0m \u001b[0ma\u001b[0m \u001b[0;34m=\u001b[0m \u001b[0ma\u001b[0m\u001b[0;34m+\u001b[0m\u001b[0mb\u001b[0m\u001b[0;34m\u001b[0m\u001b[0;34m\u001b[0m\u001b[0m\n\u001b[0;32m---> 21\u001b[0;31m \u001b[0ma\u001b[0m\u001b[0;34m.\u001b[0m\u001b[0mshow\u001b[0m\u001b[0;34m(\u001b[0m\u001b[0;34m)\u001b[0m\u001b[0;34m\u001b[0m\u001b[0;34m\u001b[0m\u001b[0m\n\u001b[0m",
      "\u001b[0;31mAttributeError\u001b[0m: 'NoneType' object has no attribute 'show'"
     ]
    }
   ],
   "source": [
    "class Point:\n",
    "    \n",
    "    def __init__(self, a, b):\n",
    "        self.a = a\n",
    "        self.b = b\n",
    "        \n",
    "    def __add__(self, other):\n",
    "        self.a + self.b\n",
    "    \n",
    "    def show(self):\n",
    "        print(self.a, self.b)\n",
    "        \n",
    "        \n",
    "a = Point(1, 2)\n",
    "a.show()\n",
    "\n",
    "b = Point(3, 4)\n",
    "a.show()\n",
    "\n",
    "a = a+b\n",
    "a.show()"
   ]
  },
  {
   "cell_type": "code",
   "execution_count": 12,
   "metadata": {},
   "outputs": [
    {
     "name": "stdout",
     "output_type": "stream",
     "text": [
      "[['2021-05-01', '2021-05-07', 64.30000000000001], ['2021-05-08', '2021-05-14', 144.0], ['2021-05-15', '2021-05-21', 194.29999999999998], ['2021-05-22', '2021-05-28', 254.19999999999996]]\n",
      "Max Week = 2021-05-22 ~ 2021-05-28\n"
     ]
    }
   ],
   "source": [
    "import pandas as pd\n",
    "import csv \n",
    "f = open('./seoul.csv', encoding='cp949')\n",
    "data = csv.reader(f)\n",
    "header = next(data)\n",
    "a = 0\n",
    "diff = []\n",
    "week = []\n",
    "\n",
    "i = 0\n",
    "for row in data:\n",
    "    i += 1\n",
    "    week.append(row[0])\n",
    "    a = a + float(row[4]) - float(row[3])\n",
    "    if i == 7:\n",
    "        diff.append([week[0], week[-1],a])\n",
    "        i = 0\n",
    "        week = []\n",
    "f.close()\n",
    "\n",
    "                     \n",
    "for x in range(len(diff)):\n",
    "    if x == len(diff)-1:\n",
    "        break;\n",
    "    elif diff[x][2] < diff[x+1][2]:\n",
    "        max = diff[x+1]\n",
    "\n",
    "print('Max Week = %s ~ %s' %(max[0], max[1]))"
   ]
  },
  {
   "cell_type": "code",
   "execution_count": 53,
   "metadata": {},
   "outputs": [
    {
     "name": "stdout",
     "output_type": "stream",
     "text": [
      "[array([[ 2.,  2., nan,  2., nan,  0.],\n",
      "       [ 2.,  2.,  0., inf,  0., nan],\n",
      "       [ 2.,  2., nan,  2., nan, nan]]), array([[ 2.,  2., nan,  2., nan,  0.],\n",
      "       [ 2.,  2.,  0., inf,  0., nan],\n",
      "       [ 2.,  2., nan,  2., nan, nan]]), array([[ 2.,  2., nan,  2., nan,  0.],\n",
      "       [ 2.,  2.,  0., inf,  0., nan],\n",
      "       [ 2.,  2., nan,  2., nan, nan]])]\n"
     ]
    },
    {
     "name": "stderr",
     "output_type": "stream",
     "text": [
      "<ipython-input-53-0ada2e708bd0>:9: RuntimeWarning: divide by zero encountered in true_divide\n",
      "  cos.append((docs + query) / docs * query)\n",
      "<ipython-input-53-0ada2e708bd0>:9: RuntimeWarning: invalid value encountered in true_divide\n",
      "  cos.append((docs + query) / docs * query)\n"
     ]
    }
   ],
   "source": [
    "import numpy as np\n",
    "docs = [[1,1,0,1,0,1],[1,1,1,0,1,0],[1,1,0,1,0,0]]\n",
    "query = [1,1,0,1,0,0]\n",
    "\n",
    "docs = np.array(docs)\n",
    "query = np.array(query)\n",
    "cos = []\n",
    "for x in range(0,3):\n",
    "    cos.append((docs + query) / docs * query)\n",
    "    \n",
    "print(cos)"
   ]
  },
  {
   "cell_type": "code",
   "execution_count": null,
   "metadata": {},
   "outputs": [],
   "source": []
  }
 ],
 "metadata": {
  "kernelspec": {
   "display_name": "Python 3",
   "language": "python",
   "name": "python3"
  },
  "language_info": {
   "codemirror_mode": {
    "name": "ipython",
    "version": 3
   },
   "file_extension": ".py",
   "mimetype": "text/x-python",
   "name": "python",
   "nbconvert_exporter": "python",
   "pygments_lexer": "ipython3",
   "version": "3.8.5"
  }
 },
 "nbformat": 4,
 "nbformat_minor": 4
}
