{
 "cells": [
  {
   "cell_type": "code",
   "execution_count": 10,
   "id": "1c4374b5",
   "metadata": {},
   "outputs": [
    {
     "name": "stdout",
     "output_type": "stream",
     "text": [
      "2\n",
      "2차방정식 :  25.0\n",
      "3\n",
      "둘레 : 18.84  넓이 : 28.26\n"
     ]
    }
   ],
   "source": [
    "x = input()\n",
    "x = float(x)\n",
    "print(\"2차방정식 : \", (3 * (x ** 2)) + (5 * x) +3)\n",
    "#print(3* pow(x,2) +(5 * x) +3)\n",
    "radius = input()\n",
    "radius = float(radius)\n",
    "print(\"둘레 :\",2 * radius * 3.14,\" 넓이 :\",3.14 * (radius ** 2))\n"
   ]
  },
  {
   "cell_type": "code",
   "execution_count": null,
   "id": "8d7d6d9d",
   "metadata": {},
   "outputs": [],
   "source": []
  }
 ],
 "metadata": {
  "kernelspec": {
   "display_name": "Python 3",
   "language": "python",
   "name": "python3"
  },
  "language_info": {
   "codemirror_mode": {
    "name": "ipython",
    "version": 3
   },
   "file_extension": ".py",
   "mimetype": "text/x-python",
   "name": "python",
   "nbconvert_exporter": "python",
   "pygments_lexer": "ipython3",
   "version": "3.9.4"
  }
 },
 "nbformat": 4,
 "nbformat_minor": 5
}
